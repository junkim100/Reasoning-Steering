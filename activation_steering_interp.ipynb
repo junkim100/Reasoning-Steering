{
 "cells": [
  {
   "cell_type": "code",
   "execution_count": null,
   "id": "f81471d5-be93-498e-8f23-75dc308a0cc0",
   "metadata": {},
   "outputs": [],
   "source": [
    "import torch as t\n",
    "from llama_wrapper import LlamaWrapper\n",
    "import os\n",
    "from dotenv import load_dotenv\n",
    "from matplotlib import pyplot as plt\n",
    "from IPython.display import display, HTML\n",
    "import matplotlib\n",
    "from utils.tokenize import tokenize_llama_chat\n",
    "from behaviors import SYCOPHANCY, get_vector_path"
   ]
  },
  {
   "cell_type": "code",
   "execution_count": null,
   "id": "16f9f7e2-a8c9-4b21-ad2f-fe404c31abef",
   "metadata": {},
   "outputs": [],
   "source": [
    "load_dotenv()\n",
    "\n",
    "HUGGINGFACE_TOKEN = os.getenv(\"HF_TOKEN\")\n",
    "BEHAVIOR = SYCOPHANCY"
   ]
  },
  {
   "cell_type": "code",
   "execution_count": null,
   "id": "8032e328-6125-46b9-81b3-ecc4bd90c6cf",
   "metadata": {},
   "outputs": [],
   "source": [
    "model = LlamaWrapper(HUGGINGFACE_TOKEN)"
   ]
  },
  {
   "cell_type": "markdown",
   "id": "6b5b7a1f-b430-448b-9cc9-4a315e821130",
   "metadata": {},
   "source": [
    "# Calculating dot products between steering vectors and activations"
   ]
  },
  {
   "cell_type": "code",
   "execution_count": null,
   "id": "0933aea8-0df5-446f-8d88-01bb1b46b8f8",
   "metadata": {},
   "outputs": [],
   "source": [
    "def value_to_color(value, cmap=plt.cm.RdBu, vmin=-25, vmax=25):\n",
    "    # Convert value to a range between 0 and 1\n",
    "    norm = plt.Normalize(vmin=vmin, vmax=vmax)\n",
    "    rgba = cmap(norm(value))\n",
    "    return matplotlib.colors.to_hex(rgba)\n",
    "\n",
    "\n",
    "def display_token_dot_products(data):\n",
    "    html_content = \"\"\n",
    "    max_dist_from_zero = max([abs(x[1]) for x in data])\n",
    "    for token, value in data:\n",
    "        color = value_to_color(value, vmin=-1 * max_dist_from_zero, vmax=max_dist_from_zero)\n",
    "        html_content += f\"<span style='background-color: {color}; padding: 2px 5px; margin: 2px; border-radius: 3px;'>{token} ({value:.4f})</span>\"\n",
    "    display(HTML(html_content))\n",
    "    \n",
    "def display_token_dot_products_final_text(data, text, tokenizer):\n",
    "    html_content = \"<div>\"\n",
    "    max_dist_from_zero = max([abs(x[1]) for x in data])\n",
    "    tokens = tokenizer.encode(text)\n",
    "    tokens = tokenizer.batch_decode(t.tensor(tokens).unsqueeze(-1))\n",
    "    for idx, (_, value) in enumerate(data):\n",
    "        color = value_to_color(value, vmin=-1 * max_dist_from_zero, vmax=max_dist_from_zero)\n",
    "        html_content += f\"<span style='background-color: {color}; padding: 2px 5px; margin: 2px; border-radius: 3px;'>{tokens[idx].strip()} ({value:.4f})</span>\"\n",
    "    html_content += \"</div>\"\n",
    "    display(HTML(html_content))"
   ]
  },
  {
   "cell_type": "code",
   "execution_count": null,
   "id": "e9b2658a-3ea9-4f95-94ed-6d9d47fc5f96",
   "metadata": {},
   "outputs": [],
   "source": [
    "def get_steering_vector(layer, model_name_path):\n",
    "    path = get_vector_path(BEHAVIOR, layer, model_name_path)\n",
    "    return t.load(path)"
   ]
  },
  {
   "cell_type": "code",
   "execution_count": null,
   "id": "bdc54185-f3a2-4def-9f3b-ae732d156654",
   "metadata": {},
   "outputs": [],
   "source": [
    "layer = 16\n",
    "model.reset_all()\n",
    "max_new_tokens = 20\n",
    "vec = get_steering_vector(layer, model.model_name_path)\n",
    "model.set_save_internal_decodings(False)\n",
    "model.set_calc_dot_product_with(layer, vec.cuda())\n",
    "model_input = \"If you disagree with a friend, should you tell them or stay quiet and keep the peace?\"\n",
    "m_out = model.generate_text(model_input, max_new_tokens=max_new_tokens)\n",
    "m_out_answer = m_out.split(\"[/INST]\")[-1].strip()\n",
    "print(\"Output:\", m_out_answer)\n",
    "dp = model.get_dot_products(layer)\n",
    "display(HTML('<style>del, s, strike, .line-through { text-decoration: none !important; }</style>'))\n",
    "display_token_dot_products(dp)"
   ]
  },
  {
   "cell_type": "code",
   "execution_count": null,
   "id": "600fb070-df74-4768-901d-9be93803c6b7",
   "metadata": {},
   "outputs": [],
   "source": [
    "display_token_dot_products_final_text(dp, m_out_answer, model.tokenizer)"
   ]
  },
  {
   "cell_type": "markdown",
   "id": "f4164fa8-198c-49fe-8c94-618a79ed0f7b",
   "metadata": {},
   "source": [
    "# Intermediate decoding (\"logit lens\")"
   ]
  },
  {
   "cell_type": "code",
   "execution_count": null,
   "id": "cd3786a2-e868-426e-95d8-c4c21ce56e3c",
   "metadata": {},
   "outputs": [],
   "source": [
    "def prompt_to_tokens(instruction, model_output):\n",
    "    tokens = tokenize_llama_chat(\n",
    "        model.tokenizer,\n",
    "        instruction,\n",
    "        model_output\n",
    "    )\n",
    "    return t.tensor(tokens).unsqueeze(0)"
   ]
  },
  {
   "cell_type": "code",
   "execution_count": null,
   "id": "9b7632c9-ac83-4cbf-80be-177e68c6ca25",
   "metadata": {},
   "outputs": [],
   "source": [
    "layer = 15\n",
    "multiplier = 0\n",
    "vec = get_steering_vector(layer, model.model_name_path)\n",
    "model.set_save_internal_decodings(True)\n",
    "model.reset_all()\n",
    "model.set_add_activations(layer, multiplier * vec.cuda())\n",
    "instruction = \"Is it more important to be nice or to be honest?\"\n",
    "tokens = prompt_to_tokens(\n",
    "    instruction=instruction,\n",
    "    model_output=\"\",\n",
    ")\n",
    "model.decode_all_layers(tokens)"
   ]
  },
  {
   "cell_type": "code",
   "execution_count": null,
   "id": "d9b21ec7-2fcd-45e2-af23-16643c16f5ea",
   "metadata": {},
   "outputs": [],
   "source": [
    "multiplier = -1.5\n",
    "model.reset_all()\n",
    "model.set_add_activations(layer, multiplier * vec.cuda())\n",
    "model.plot_decoded_activations_for_layer(25, tokens, 10)"
   ]
  },
  {
   "cell_type": "code",
   "execution_count": null,
   "id": "e98cd2d4-4e88-4b42-8cd2-99733ffc6150",
   "metadata": {},
   "outputs": [],
   "source": [
    "multiplier = 1.5\n",
    "model.reset_all()\n",
    "model.set_add_activations(layer, multiplier * vec.cuda())\n",
    "model.plot_decoded_activations_for_layer(25, tokens, 10)"
   ]
  }
 ],
 "metadata": {
  "kernelspec": {
   "display_name": "Python 3 (ipykernel)",
   "language": "python",
   "name": "python3"
  },
  "language_info": {
   "codemirror_mode": {
    "name": "ipython",
    "version": 3
   },
   "file_extension": ".py",
   "mimetype": "text/x-python",
   "name": "python",
   "nbconvert_exporter": "python",
   "pygments_lexer": "ipython3",
   "version": "3.8.10"
  }
 },
 "nbformat": 4,
 "nbformat_minor": 5
}
